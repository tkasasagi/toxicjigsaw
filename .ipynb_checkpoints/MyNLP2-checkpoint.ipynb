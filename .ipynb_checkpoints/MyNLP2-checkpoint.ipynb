{
 "cells": [
  {
   "cell_type": "code",
   "execution_count": 1,
   "metadata": {
    "collapsed": true
   },
   "outputs": [],
   "source": [
    "import nltk\n",
    "import pandas as pd\n",
    "import matplotlib.pyplot as plt\n",
    "import seaborn as sns\n",
    "%matplotlib inline"
   ]
  },
  {
   "cell_type": "code",
   "execution_count": 2,
   "metadata": {
    "collapsed": true
   },
   "outputs": [],
   "source": [
    "df_train = pd.read_csv('input/train2.csv')\n",
    "df_test  = pd.read_csv('input/test2.csv')"
   ]
  },
  {
   "cell_type": "code",
   "execution_count": 3,
   "metadata": {},
   "outputs": [
    {
     "data": {
      "text/html": [
       "<div>\n",
       "<style>\n",
       "    .dataframe thead tr:only-child th {\n",
       "        text-align: right;\n",
       "    }\n",
       "\n",
       "    .dataframe thead th {\n",
       "        text-align: left;\n",
       "    }\n",
       "\n",
       "    .dataframe tbody tr th {\n",
       "        vertical-align: top;\n",
       "    }\n",
       "</style>\n",
       "<table border=\"1\" class=\"dataframe\">\n",
       "  <thead>\n",
       "    <tr style=\"text-align: right;\">\n",
       "      <th></th>\n",
       "      <th>id</th>\n",
       "      <th>comment_text</th>\n",
       "      <th>toxic</th>\n",
       "      <th>severe_toxic</th>\n",
       "      <th>obscene</th>\n",
       "      <th>threat</th>\n",
       "      <th>insult</th>\n",
       "      <th>identity_hate</th>\n",
       "      <th>length</th>\n",
       "    </tr>\n",
       "  </thead>\n",
       "  <tbody>\n",
       "    <tr>\n",
       "      <th>0</th>\n",
       "      <td>0000997932d777bf</td>\n",
       "      <td>['Explanation', 'edits', 'made', 'username', '...</td>\n",
       "      <td>0</td>\n",
       "      <td>0</td>\n",
       "      <td>0</td>\n",
       "      <td>0</td>\n",
       "      <td>0</td>\n",
       "      <td>0</td>\n",
       "      <td>264</td>\n",
       "    </tr>\n",
       "    <tr>\n",
       "      <th>1</th>\n",
       "      <td>000103f0d9cfb60f</td>\n",
       "      <td>[\"D'aww!\", 'matches', 'background', 'colour', ...</td>\n",
       "      <td>0</td>\n",
       "      <td>0</td>\n",
       "      <td>0</td>\n",
       "      <td>0</td>\n",
       "      <td>0</td>\n",
       "      <td>0</td>\n",
       "      <td>112</td>\n",
       "    </tr>\n",
       "    <tr>\n",
       "      <th>2</th>\n",
       "      <td>000113f07ec002fd</td>\n",
       "      <td>['Hey', 'man,', \"I'm\", 'really', 'trying', 'ed...</td>\n",
       "      <td>0</td>\n",
       "      <td>0</td>\n",
       "      <td>0</td>\n",
       "      <td>0</td>\n",
       "      <td>0</td>\n",
       "      <td>0</td>\n",
       "      <td>233</td>\n",
       "    </tr>\n",
       "    <tr>\n",
       "      <th>3</th>\n",
       "      <td>0001b41b1c6bb37e</td>\n",
       "      <td>['\"', \"can't\", 'make', 'real', 'suggestions', ...</td>\n",
       "      <td>0</td>\n",
       "      <td>0</td>\n",
       "      <td>0</td>\n",
       "      <td>0</td>\n",
       "      <td>0</td>\n",
       "      <td>0</td>\n",
       "      <td>622</td>\n",
       "    </tr>\n",
       "    <tr>\n",
       "      <th>4</th>\n",
       "      <td>0001d958c54c6e35</td>\n",
       "      <td>['You,', 'sir,', 'hero.', 'chance', 'remember'...</td>\n",
       "      <td>0</td>\n",
       "      <td>0</td>\n",
       "      <td>0</td>\n",
       "      <td>0</td>\n",
       "      <td>0</td>\n",
       "      <td>0</td>\n",
       "      <td>67</td>\n",
       "    </tr>\n",
       "  </tbody>\n",
       "</table>\n",
       "</div>"
      ],
      "text/plain": [
       "                 id                                       comment_text  toxic  \\\n",
       "0  0000997932d777bf  ['Explanation', 'edits', 'made', 'username', '...      0   \n",
       "1  000103f0d9cfb60f  [\"D'aww!\", 'matches', 'background', 'colour', ...      0   \n",
       "2  000113f07ec002fd  ['Hey', 'man,', \"I'm\", 'really', 'trying', 'ed...      0   \n",
       "3  0001b41b1c6bb37e  ['\"', \"can't\", 'make', 'real', 'suggestions', ...      0   \n",
       "4  0001d958c54c6e35  ['You,', 'sir,', 'hero.', 'chance', 'remember'...      0   \n",
       "\n",
       "   severe_toxic  obscene  threat  insult  identity_hate  length  \n",
       "0             0        0       0       0              0     264  \n",
       "1             0        0       0       0              0     112  \n",
       "2             0        0       0       0              0     233  \n",
       "3             0        0       0       0              0     622  \n",
       "4             0        0       0       0              0      67  "
      ]
     },
     "execution_count": 3,
     "metadata": {},
     "output_type": "execute_result"
    }
   ],
   "source": [
    "df_train.head()"
   ]
  },
  {
   "cell_type": "code",
   "execution_count": null,
   "metadata": {
    "collapsed": true
   },
   "outputs": [],
   "source": [
    "#df_train['length'] = df_train['comment_text'].apply(len)"
   ]
  },
  {
   "cell_type": "code",
   "execution_count": 4,
   "metadata": {},
   "outputs": [
    {
     "data": {
      "text/plain": [
       "<matplotlib.axes._subplots.AxesSubplot at 0x7febc141f2b0>"
      ]
     },
     "execution_count": 4,
     "metadata": {},
     "output_type": "execute_result"
    },
    {
     "data": {
      "image/png": "[encoded data removed]",
      "text/plain": [
       "<matplotlib.figure.Figure at 0x7febc1b91d68>"
      ]
     },
     "metadata": {},
     "output_type": "display_data"
    }
   ],
   "source": [
    "df_train['length'].plot.hist(bins = 150)"
   ]
  },
  {
   "cell_type": "code",
   "execution_count": null,
   "metadata": {},
   "outputs": [],
   "source": [
    "#df_train[df_train['length'] == 5000].iloc[0]"
   ]
  },
  {
   "cell_type": "code",
   "execution_count": null,
   "metadata": {},
   "outputs": [],
   "source": [
    "#df_train.hist(column = 'length', by = 'identity_hate', bins = 60, figsize = (12,4))"
   ]
  },
  {
   "cell_type": "code",
   "execution_count": 5,
   "metadata": {
    "collapsed": true
   },
   "outputs": [],
   "source": [
    "import string\n",
    "from nltk.corpus import stopwords"
   ]
  },
  {
   "cell_type": "code",
   "execution_count": 20,
   "metadata": {
    "collapsed": true
   },
   "outputs": [],
   "source": [
    "def text_process(message):\n",
    "    \"\"\"\n",
    "    1. remove punctuations\n",
    "    2. remove stopwords\n",
    "    3. return clean text words\n",
    "    \"\"\"\n",
    "    nopunc = [char for char in message if char not in string.punctuation]\n",
    "    nopunc = ''.join(nopunc)   \n",
    "    \n",
    "    return [word for word in message.split() if word.lower() not in stopwords.words('english')]\n",
    "    #return message"
   ]
  },
  {
   "cell_type": "code",
   "execution_count": 21,
   "metadata": {
    "collapsed": true
   },
   "outputs": [],
   "source": [
    "from sklearn.feature_extraction.text import CountVectorizer\n"
   ]
  },
  {
   "cell_type": "code",
   "execution_count": null,
   "metadata": {
    "collapsed": true
   },
   "outputs": [],
   "source": [
    "#comment = df_train.loc[:500, :]"
   ]
  },
  {
   "cell_type": "code",
   "execution_count": null,
   "metadata": {},
   "outputs": [],
   "source": [
    "#comment.describe()"
   ]
  },
  {
   "cell_type": "code",
   "execution_count": null,
   "metadata": {},
   "outputs": [],
   "source": [
    "bow_transformer = CountVectorizer(analyzer = text_process).fit(df_train['comment_text'])"
   ]
  },
  {
   "cell_type": "code",
   "execution_count": null,
   "metadata": {
    "collapsed": true
   },
   "outputs": [],
   "source": []
  },
  {
   "cell_type": "markdown",
   "metadata": {},
   "source": [
    "print(len(bow_transformer.vocabulary_))"
   ]
  },
  {
   "cell_type": "code",
   "execution_count": 10,
   "metadata": {
    "collapsed": true
   },
   "outputs": [],
   "source": [
    "comment4 = df_train['comment_text'][45]"
   ]
  },
  {
   "cell_type": "code",
   "execution_count": 11,
   "metadata": {},
   "outputs": [
    {
     "name": "stdout",
     "output_type": "stream",
     "text": [
      "['believe', 'Lisak', 'criticism', 'present', 'conforms', 'NPV', 'rule.', 'Lisak', 'neutral', 'point', 'view', 'begin', 'with.', 'offer', 'polygraph', 'even', 'concerned', 'review', 'polygraph', 'results', 'shocks', 'complainant', 'thinking', 'lies', 'uncovered,', 'recantation', 'still', 'perfectly', 'valid.', 'know', 'telling', 'truth,', 'argue', 'machine', 'investigator.', 'Also', 'part', \"Kanin's\", 'research', 'followup', 'recanted', 'story', 'possible', 'verify', 'false', 'recantations.', 'followups', 'recanted', 'version', 'events', 'matched', 'accused', 'said', 'happened.', 'Arguing', 'Lisak', 'respected', 'PHD', 'baseless', 'Kanin', 'respected', 'PHD.', 'agree', 'edit', 'neutral', 'possible', 'though,', 'apologize', 'that.', 'Still', 'something', 'must', 'done', 'here.']\n"
     ]
    }
   ],
   "source": [
    "print(comment4)"
   ]
  },
  {
   "cell_type": "code",
   "execution_count": 12,
   "metadata": {
    "collapsed": true
   },
   "outputs": [],
   "source": [
    "bow4 = bow_transformer.transform([comment4])"
   ]
  },
  {
   "cell_type": "code",
   "execution_count": 13,
   "metadata": {},
   "outputs": [
    {
     "name": "stdout",
     "output_type": "stream",
     "text": [
      "  (0, 0)\t73\n",
      "  (0, 2)\t2\n",
      "  (0, 7)\t147\n",
      "  (0, 12)\t76\n",
      "  (0, 14)\t9\n",
      "  (0, 33)\t2\n",
      "  (0, 36)\t2\n",
      "  (0, 40)\t2\n",
      "  (0, 43)\t2\n",
      "  (0, 44)\t3\n",
      "  (0, 46)\t1\n",
      "  (0, 48)\t3\n",
      "  (0, 51)\t1\n",
      "  (0, 54)\t1\n",
      "  (0, 59)\t1\n",
      "  (0, 61)\t1\n",
      "  (0, 65)\t32\n",
      "  (0, 66)\t5\n",
      "  (0, 67)\t20\n",
      "  (0, 68)\t13\n",
      "  (0, 69)\t62\n",
      "  (0, 70)\t8\n",
      "  (0, 71)\t13\n",
      "  (0, 72)\t15\n",
      "  (0, 73)\t36\n",
      "  (0, 75)\t6\n",
      "  (0, 76)\t27\n",
      "  (0, 77)\t7\n",
      "  (0, 78)\t34\n",
      "  (0, 79)\t28\n",
      "  (0, 80)\t18\n",
      "  (0, 82)\t32\n",
      "  (0, 83)\t35\n",
      "  (0, 84)\t35\n",
      "  (0, 85)\t13\n",
      "  (0, 86)\t10\n",
      "  (0, 87)\t6\n",
      "  (0, 89)\t5\n",
      "  (0, 90)\t1\n"
     ]
    }
   ],
   "source": [
    "print(bow4)"
   ]
  },
  {
   "cell_type": "code",
   "execution_count": null,
   "metadata": {},
   "outputs": [],
   "source": [
    "print(df_train['comment_text'][45])"
   ]
  },
  {
   "cell_type": "code",
   "execution_count": 19,
   "metadata": {},
   "outputs": [
    {
     "data": {
      "text/plain": [
       "'h'"
      ]
     },
     "execution_count": 19,
     "metadata": {},
     "output_type": "execute_result"
    }
   ],
   "source": [
    "bow_transformer.get_feature_names()[72]"
   ]
  },
  {
   "cell_type": "code",
   "execution_count": null,
   "metadata": {
    "collapsed": true
   },
   "outputs": [],
   "source": []
  }
 ],
 "metadata": {
  "kernelspec": {
   "display_name": "Python 3",
   "language": "python",
   "name": "python3"
  },
  "language_info": {
   "codemirror_mode": {
    "name": "ipython",
    "version": 3
   },
   "file_extension": ".py",
   "mimetype": "text/x-python",
   "name": "python",
   "nbconvert_exporter": "python",
   "pygments_lexer": "ipython3",
   "version": "3.6.3"
  }
 },
 "nbformat": 4,
 "nbformat_minor": 2
}
